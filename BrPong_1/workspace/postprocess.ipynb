{
 "cells": [
  {
   "cell_type": "code",
   "execution_count": 8,
   "metadata": {},
   "outputs": [],
   "source": [
    "import csv\n",
    "import numpy as np\n",
    "import pickle\n",
    "import pandas as pd\n",
    "REPETITIONS = 10"
   ]
  },
  {
   "cell_type": "code",
   "execution_count": 2,
   "metadata": {},
   "outputs": [],
   "source": [
    "types_tests = ['cbow','sg','google','wordgcn']\n",
    "datapath = 'karthikeya/data/results/'"
   ]
  },
  {
   "cell_type": "code",
   "execution_count": 23,
   "metadata": {},
   "outputs": [],
   "source": [
    "for type_test in types_tests:\n",
    "    current_datapath = datapath + type_test + '/' + type_test + '.pkl'\n",
    "    current_fscores_path = datapath + type_test + '/' + type_test + '_fscores.csv'\n",
    "    current_rmses_path = datapath + type_test + '/' + type_test + '_rmses.csv'\n",
    "    current_adj_path = datapath + type_test + '/' + type_test + '_mapping_adj.csv'\n",
    "    current_file = open(current_datapath, 'rb')\n",
    "    current_data = pickle.load(current_file)\n",
    "    # current_data consists of 10 runs, stored as a dictionary - current_data[n] = [fscores,rmses,mapping_adj]\n",
    "    # every one of these 10 runs has fscores - 100*1, rmses, 100*1, mapping_adj num_P * num_P\n",
    "    # collect all fscores, put them into results/current_name/fscores, rmses etc., \n",
    "    fscores,rmses = [],[]\n",
    "    for repetition in range(REPETITIONS):\n",
    "        fscores.append(current_data[repetition][0])\n",
    "        rmses.append(current_data[repetition][1])\n",
    "    fscores = pd.DataFrame(fscores).T\n",
    "    rmses = pd.DataFrame(rmses).T\n",
    "    best_index = np.where(fscores.iloc[-1,:] == np.max(fscores.iloc[-1,:]))[0][0] # index of best mapping_adj to store\n",
    "    mapping_adj = pd.DataFrame(current_data[best_index][2])\n",
    "    fscores.to_csv(current_fscores_path)\n",
    "    rmses.to_csv(current_rmses_path)\n",
    "    mapping_adj.to_csv(current_adj_path)"
   ]
  },
  {
   "cell_type": "code",
   "execution_count": 22,
   "metadata": {},
   "outputs": [
    {
     "data": {
      "text/plain": [
       "1"
      ]
     },
     "execution_count": 22,
     "metadata": {},
     "output_type": "execute_result"
    }
   ],
   "source": [
    "np.where(fscores.iloc[-1,:] == np.max(fscores.iloc[-1,:]))[0][0]"
   ]
  },
  {
   "cell_type": "code",
   "execution_count": 20,
   "metadata": {},
   "outputs": [
    {
     "data": {
      "text/plain": [
       "0    0.670607\n",
       "1    0.735721\n",
       "2    0.630872\n",
       "3    0.716506\n",
       "4    0.706665\n",
       "5    0.688968\n",
       "6    0.730873\n",
       "7    0.710117\n",
       "8    0.647745\n",
       "9    0.704644\n",
       "Name: 99, dtype: float64"
      ]
     },
     "execution_count": 20,
     "metadata": {},
     "output_type": "execute_result"
    }
   ],
   "source": [
    "fscores.iloc[-1,:]"
   ]
  },
  {
   "cell_type": "code",
   "execution_count": null,
   "metadata": {},
   "outputs": [],
   "source": []
  }
 ],
 "metadata": {
  "kernelspec": {
   "display_name": "Python 2",
   "language": "python",
   "name": "python2"
  },
  "language_info": {
   "codemirror_mode": {
    "name": "ipython",
    "version": 2
   },
   "file_extension": ".py",
   "mimetype": "text/x-python",
   "name": "python",
   "nbconvert_exporter": "python",
   "pygments_lexer": "ipython2",
   "version": "2.7.16"
  }
 },
 "nbformat": 4,
 "nbformat_minor": 2
}
