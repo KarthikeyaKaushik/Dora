{
 "cells": [
  {
   "cell_type": "code",
   "execution_count": 6,
   "metadata": {},
   "outputs": [],
   "source": [
    "import csv\n",
    "import numpy as np\n",
    "import pickle"
   ]
  },
  {
   "cell_type": "code",
   "execution_count": 3,
   "metadata": {},
   "outputs": [],
   "source": [
    "types_tests = ['cbow','sg','google','wordgcn']\n",
    "datapaths = {}\n",
    "datapaths['cbow'] = 'karthikeya/data/results/cbow.pkl'\n",
    "datapath['sg'] = 'karthikeya/data/results/sg.pkl'\n",
    "datapath['google'] = 'karthikeya/data/results/google.pkl'\n",
    "datapath['wordgcn'] = 'karthikeya/data/results/WordGCN.pkl'"
   ]
  },
  {
   "cell_type": "code",
   "execution_count": 7,
   "metadata": {},
   "outputs": [],
   "source": [
    "for type_test in types_tests:\n",
    "    current_file = open(datapath[type_test], 'rb')\n",
    "    current_data = pickle.load(current_file)\n",
    "    # current_data consists of 10 runs, stored as a dictionary - current_data[n] = [fscores,rmses,mapping_adj]\n",
    "    # every one of these 10 runs has fscores - 100*1, rmses, 100*1, mapping_adj num_P * num_P\n",
    "    # collect all fscores, put them into results/current_name/fscores, rmses etc., \n",
    "    "
   ]
  },
  {
   "cell_type": "code",
   "execution_count": null,
   "metadata": {},
   "outputs": [],
   "source": []
  },
  {
   "cell_type": "code",
   "execution_count": null,
   "metadata": {},
   "outputs": [],
   "source": []
  }
 ],
 "metadata": {
  "kernelspec": {
   "display_name": "Python 2",
   "language": "python",
   "name": "python2"
  },
  "language_info": {
   "codemirror_mode": {
    "name": "ipython",
    "version": 2
   },
   "file_extension": ".py",
   "mimetype": "text/x-python",
   "name": "python",
   "nbconvert_exporter": "python",
   "pygments_lexer": "ipython2",
   "version": "2.7.16"
  }
 },
 "nbformat": 4,
 "nbformat_minor": 2
}
